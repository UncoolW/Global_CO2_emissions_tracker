{
 "cells": [
  {
   "cell_type": "markdown",
   "id": "1d59a004",
   "metadata": {},
   "source": [
    "#  Global CO₂ Emissions Tracker – ETL & Cleaning Notebook\n",
    "\n",
    "This notebook performs the **ETL (Extract, Transform, Load)** phase for the OWID CO₂ Emissions dataset.\n",
    "\n",
    "It prepares a cleaned dataset for use in a **Tableau dashboard** showing global emissions trends by sector, population, and economic output.\n",
    "\n",
    "---\n",
    "##  Objective:\n",
    "- Load the raw CSV from OWID\n",
    "- Drop irrelevant columns\n",
    "- Apply tiered filtering (essential, derived, optional)\n",
    "- Recalculate or impute missing metrics where possible\n",
    "- Save a cleaned CSV for dashboard building"
   ]
  },
  {
   "cell_type": "markdown",
   "id": "28428f5e",
   "metadata": {},
   "source": [
    "## 1. Import Required Libraries\n",
    "\n",
    "We'll use Pandas and NumPy for loading and processing the dataset.\n"
   ]
  },
  {
   "cell_type": "markdown",
   "id": "96c4be28",
   "metadata": {},
   "source": [
    "## 2. Load Dataset\n",
    "\n",
    "The dataset is sourced from Our World in Data's [CO₂ and Greenhouse Gas Emissions repository](https://github.com/owid/co2-data).  \n",
    "Renamed as emissions_raw.csv\n"
   ]
  },
  {
   "cell_type": "code",
   "execution_count": 66,
   "id": "e7fd79ee",
   "metadata": {},
   "outputs": [
    {
     "data": {
      "text/html": [
       "<div>\n",
       "<style scoped>\n",
       "    .dataframe tbody tr th:only-of-type {\n",
       "        vertical-align: middle;\n",
       "    }\n",
       "\n",
       "    .dataframe tbody tr th {\n",
       "        vertical-align: top;\n",
       "    }\n",
       "\n",
       "    .dataframe thead th {\n",
       "        text-align: right;\n",
       "    }\n",
       "</style>\n",
       "<table border=\"1\" class=\"dataframe\">\n",
       "  <thead>\n",
       "    <tr style=\"text-align: right;\">\n",
       "      <th></th>\n",
       "      <th>country</th>\n",
       "      <th>year</th>\n",
       "      <th>iso_code</th>\n",
       "      <th>population</th>\n",
       "      <th>gdp</th>\n",
       "      <th>cement_co2</th>\n",
       "      <th>cement_co2_per_capita</th>\n",
       "      <th>co2</th>\n",
       "      <th>co2_growth_abs</th>\n",
       "      <th>co2_growth_prct</th>\n",
       "      <th>...</th>\n",
       "      <th>share_global_other_co2</th>\n",
       "      <th>share_of_temperature_change_from_ghg</th>\n",
       "      <th>temperature_change_from_ch4</th>\n",
       "      <th>temperature_change_from_co2</th>\n",
       "      <th>temperature_change_from_ghg</th>\n",
       "      <th>temperature_change_from_n2o</th>\n",
       "      <th>total_ghg</th>\n",
       "      <th>total_ghg_excluding_lucf</th>\n",
       "      <th>trade_co2</th>\n",
       "      <th>trade_co2_share</th>\n",
       "    </tr>\n",
       "  </thead>\n",
       "  <tbody>\n",
       "    <tr>\n",
       "      <th>0</th>\n",
       "      <td>Afghanistan</td>\n",
       "      <td>1750</td>\n",
       "      <td>AFG</td>\n",
       "      <td>2802560.0</td>\n",
       "      <td>NaN</td>\n",
       "      <td>0.0</td>\n",
       "      <td>0.0</td>\n",
       "      <td>NaN</td>\n",
       "      <td>NaN</td>\n",
       "      <td>NaN</td>\n",
       "      <td>...</td>\n",
       "      <td>NaN</td>\n",
       "      <td>NaN</td>\n",
       "      <td>NaN</td>\n",
       "      <td>NaN</td>\n",
       "      <td>NaN</td>\n",
       "      <td>NaN</td>\n",
       "      <td>NaN</td>\n",
       "      <td>NaN</td>\n",
       "      <td>NaN</td>\n",
       "      <td>NaN</td>\n",
       "    </tr>\n",
       "    <tr>\n",
       "      <th>1</th>\n",
       "      <td>Afghanistan</td>\n",
       "      <td>1751</td>\n",
       "      <td>AFG</td>\n",
       "      <td>NaN</td>\n",
       "      <td>NaN</td>\n",
       "      <td>0.0</td>\n",
       "      <td>NaN</td>\n",
       "      <td>NaN</td>\n",
       "      <td>NaN</td>\n",
       "      <td>NaN</td>\n",
       "      <td>...</td>\n",
       "      <td>NaN</td>\n",
       "      <td>NaN</td>\n",
       "      <td>NaN</td>\n",
       "      <td>NaN</td>\n",
       "      <td>NaN</td>\n",
       "      <td>NaN</td>\n",
       "      <td>NaN</td>\n",
       "      <td>NaN</td>\n",
       "      <td>NaN</td>\n",
       "      <td>NaN</td>\n",
       "    </tr>\n",
       "    <tr>\n",
       "      <th>2</th>\n",
       "      <td>Afghanistan</td>\n",
       "      <td>1752</td>\n",
       "      <td>AFG</td>\n",
       "      <td>NaN</td>\n",
       "      <td>NaN</td>\n",
       "      <td>0.0</td>\n",
       "      <td>NaN</td>\n",
       "      <td>NaN</td>\n",
       "      <td>NaN</td>\n",
       "      <td>NaN</td>\n",
       "      <td>...</td>\n",
       "      <td>NaN</td>\n",
       "      <td>NaN</td>\n",
       "      <td>NaN</td>\n",
       "      <td>NaN</td>\n",
       "      <td>NaN</td>\n",
       "      <td>NaN</td>\n",
       "      <td>NaN</td>\n",
       "      <td>NaN</td>\n",
       "      <td>NaN</td>\n",
       "      <td>NaN</td>\n",
       "    </tr>\n",
       "    <tr>\n",
       "      <th>3</th>\n",
       "      <td>Afghanistan</td>\n",
       "      <td>1753</td>\n",
       "      <td>AFG</td>\n",
       "      <td>NaN</td>\n",
       "      <td>NaN</td>\n",
       "      <td>0.0</td>\n",
       "      <td>NaN</td>\n",
       "      <td>NaN</td>\n",
       "      <td>NaN</td>\n",
       "      <td>NaN</td>\n",
       "      <td>...</td>\n",
       "      <td>NaN</td>\n",
       "      <td>NaN</td>\n",
       "      <td>NaN</td>\n",
       "      <td>NaN</td>\n",
       "      <td>NaN</td>\n",
       "      <td>NaN</td>\n",
       "      <td>NaN</td>\n",
       "      <td>NaN</td>\n",
       "      <td>NaN</td>\n",
       "      <td>NaN</td>\n",
       "    </tr>\n",
       "    <tr>\n",
       "      <th>4</th>\n",
       "      <td>Afghanistan</td>\n",
       "      <td>1754</td>\n",
       "      <td>AFG</td>\n",
       "      <td>NaN</td>\n",
       "      <td>NaN</td>\n",
       "      <td>0.0</td>\n",
       "      <td>NaN</td>\n",
       "      <td>NaN</td>\n",
       "      <td>NaN</td>\n",
       "      <td>NaN</td>\n",
       "      <td>...</td>\n",
       "      <td>NaN</td>\n",
       "      <td>NaN</td>\n",
       "      <td>NaN</td>\n",
       "      <td>NaN</td>\n",
       "      <td>NaN</td>\n",
       "      <td>NaN</td>\n",
       "      <td>NaN</td>\n",
       "      <td>NaN</td>\n",
       "      <td>NaN</td>\n",
       "      <td>NaN</td>\n",
       "    </tr>\n",
       "  </tbody>\n",
       "</table>\n",
       "<p>5 rows × 79 columns</p>\n",
       "</div>"
      ],
      "text/plain": [
       "       country  year iso_code  population  gdp  cement_co2  \\\n",
       "0  Afghanistan  1750      AFG   2802560.0  NaN         0.0   \n",
       "1  Afghanistan  1751      AFG         NaN  NaN         0.0   \n",
       "2  Afghanistan  1752      AFG         NaN  NaN         0.0   \n",
       "3  Afghanistan  1753      AFG         NaN  NaN         0.0   \n",
       "4  Afghanistan  1754      AFG         NaN  NaN         0.0   \n",
       "\n",
       "   cement_co2_per_capita  co2  co2_growth_abs  co2_growth_prct  ...  \\\n",
       "0                    0.0  NaN             NaN              NaN  ...   \n",
       "1                    NaN  NaN             NaN              NaN  ...   \n",
       "2                    NaN  NaN             NaN              NaN  ...   \n",
       "3                    NaN  NaN             NaN              NaN  ...   \n",
       "4                    NaN  NaN             NaN              NaN  ...   \n",
       "\n",
       "   share_global_other_co2  share_of_temperature_change_from_ghg  \\\n",
       "0                     NaN                                   NaN   \n",
       "1                     NaN                                   NaN   \n",
       "2                     NaN                                   NaN   \n",
       "3                     NaN                                   NaN   \n",
       "4                     NaN                                   NaN   \n",
       "\n",
       "   temperature_change_from_ch4  temperature_change_from_co2  \\\n",
       "0                          NaN                          NaN   \n",
       "1                          NaN                          NaN   \n",
       "2                          NaN                          NaN   \n",
       "3                          NaN                          NaN   \n",
       "4                          NaN                          NaN   \n",
       "\n",
       "   temperature_change_from_ghg  temperature_change_from_n2o  total_ghg  \\\n",
       "0                          NaN                          NaN        NaN   \n",
       "1                          NaN                          NaN        NaN   \n",
       "2                          NaN                          NaN        NaN   \n",
       "3                          NaN                          NaN        NaN   \n",
       "4                          NaN                          NaN        NaN   \n",
       "\n",
       "   total_ghg_excluding_lucf  trade_co2  trade_co2_share  \n",
       "0                       NaN        NaN              NaN  \n",
       "1                       NaN        NaN              NaN  \n",
       "2                       NaN        NaN              NaN  \n",
       "3                       NaN        NaN              NaN  \n",
       "4                       NaN        NaN              NaN  \n",
       "\n",
       "[5 rows x 79 columns]"
      ]
     },
     "execution_count": 66,
     "metadata": {},
     "output_type": "execute_result"
    }
   ],
   "source": [
    "import pandas as pd\n",
    "\n",
    "# Load the dataset (make sure it's in your project folder)\n",
    "df = pd.read_csv(\"data/emissions_raw.csv\")\n",
    "\n",
    "# Show first few rows\n",
    "df.head()"
   ]
  },
  {
   "cell_type": "markdown",
   "id": "bf5f2337",
   "metadata": {},
   "source": [
    "## 3. Explore Data\n",
    "\n",
    "We'll check the shape, inspect column names, and identify null values."
   ]
  },
  {
   "cell_type": "code",
   "execution_count": 67,
   "id": "d593b619",
   "metadata": {},
   "outputs": [
    {
     "name": "stdout",
     "output_type": "stream",
     "text": [
      "(50191, 79)\n",
      "['country', 'year', 'iso_code', 'population', 'gdp', 'cement_co2', 'cement_co2_per_capita', 'co2', 'co2_growth_abs', 'co2_growth_prct', 'co2_including_luc', 'co2_including_luc_growth_abs', 'co2_including_luc_growth_prct', 'co2_including_luc_per_capita', 'co2_including_luc_per_gdp', 'co2_including_luc_per_unit_energy', 'co2_per_capita', 'co2_per_gdp', 'co2_per_unit_energy', 'coal_co2', 'coal_co2_per_capita', 'consumption_co2', 'consumption_co2_per_capita', 'consumption_co2_per_gdp', 'cumulative_cement_co2', 'cumulative_co2', 'cumulative_co2_including_luc', 'cumulative_coal_co2', 'cumulative_flaring_co2', 'cumulative_gas_co2', 'cumulative_luc_co2', 'cumulative_oil_co2', 'cumulative_other_co2', 'energy_per_capita', 'energy_per_gdp', 'flaring_co2', 'flaring_co2_per_capita', 'gas_co2', 'gas_co2_per_capita', 'ghg_excluding_lucf_per_capita', 'ghg_per_capita', 'land_use_change_co2', 'land_use_change_co2_per_capita', 'methane', 'methane_per_capita', 'nitrous_oxide', 'nitrous_oxide_per_capita', 'oil_co2', 'oil_co2_per_capita', 'other_co2_per_capita', 'other_industry_co2', 'primary_energy_consumption', 'share_global_cement_co2', 'share_global_co2', 'share_global_co2_including_luc', 'share_global_coal_co2', 'share_global_cumulative_cement_co2', 'share_global_cumulative_co2', 'share_global_cumulative_co2_including_luc', 'share_global_cumulative_coal_co2', 'share_global_cumulative_flaring_co2', 'share_global_cumulative_gas_co2', 'share_global_cumulative_luc_co2', 'share_global_cumulative_oil_co2', 'share_global_cumulative_other_co2', 'share_global_flaring_co2', 'share_global_gas_co2', 'share_global_luc_co2', 'share_global_oil_co2', 'share_global_other_co2', 'share_of_temperature_change_from_ghg', 'temperature_change_from_ch4', 'temperature_change_from_co2', 'temperature_change_from_ghg', 'temperature_change_from_n2o', 'total_ghg', 'total_ghg_excluding_lucf', 'trade_co2', 'trade_co2_share']\n"
     ]
    }
   ],
   "source": [
    "# 3. Inspect\n",
    "print(df.shape)\n",
    "print(df.columns.tolist())"
   ]
  },
  {
   "cell_type": "markdown",
   "id": "37237213",
   "metadata": {},
   "source": [
    "## 4. Drop Irrelevant Columns & Handle Missing Values\n",
    "\n",
    "We’ll focus on:\n",
    "- Overall CO₂ (`co2`)\n",
    "- Per capita and per GDP emissions\n",
    "- Filtering out rows with missing critical data"
   ]
  },
  {
   "cell_type": "code",
   "execution_count": 68,
   "id": "ebaaf8c8",
   "metadata": {},
   "outputs": [],
   "source": [
    "drop_cols = [\n",
    "    'iso_code', 'cement_co2_per_capita', 'co2_growth_abs', 'co2_growth_prct',\n",
    "    'co2_including_luc', 'co2_including_luc_growth_abs', 'co2_including_luc_growth_prct',\n",
    "    'co2_including_luc_per_capita', 'co2_including_luc_per_gdp', 'co2_including_luc_per_unit_energy',\n",
    "    'co2_per_unit_energy', 'coal_co2_per_capita', 'consumption_co2', 'consumption_co2_per_capita',\n",
    "    'consumption_co2_per_gdp', 'cumulative_cement_co2', 'cumulative_co2', 'cumulative_co2_including_luc',\n",
    "    'cumulative_coal_co2', 'cumulative_flaring_co2', 'cumulative_gas_co2', 'cumulative_luc_co2',\n",
    "    'cumulative_oil_co2', 'cumulative_other_co2', 'energy_per_capita', 'energy_per_gdp',\n",
    "    'flaring_co2_per_capita', 'gas_co2_per_capita', 'ghg_excluding_lucf_per_capita',\n",
    "    'ghg_per_capita', 'land_use_change_co2_per_capita', 'methane', 'methane_per_capita',\n",
    "    'nitrous_oxide', 'nitrous_oxide_per_capita', 'oil_co2_per_capita', 'other_co2_per_capita',\n",
    "    'other_industry_co2', 'primary_energy_consumption', 'share_global_cement_co2',\n",
    "    'share_global_co2', 'share_global_co2_including_luc', 'share_global_coal_co2',\n",
    "    'share_global_cumulative_cement_co2', 'share_global_cumulative_co2',\n",
    "    'share_global_cumulative_co2_including_luc', 'share_global_cumulative_coal_co2',\n",
    "    'share_global_cumulative_flaring_co2', 'share_global_cumulative_gas_co2',\n",
    "    'share_global_cumulative_luc_co2', 'share_global_cumulative_oil_co2',\n",
    "    'share_global_cumulative_other_co2', 'share_global_flaring_co2', 'share_global_gas_co2',\n",
    "    'share_global_luc_co2', 'share_global_oil_co2', 'share_global_other_co2',\n",
    "    'share_of_temperature_change_from_ghg', 'temperature_change_from_ch4',\n",
    "    'temperature_change_from_co2', 'temperature_change_from_ghg',\n",
    "    'temperature_change_from_n2o', 'total_ghg_excluding_lucf', 'trade_co2', 'trade_co2_share'\n",
    "]\n",
    "df = df.drop(columns=drop_cols, errors='ignore')\n"
   ]
  },
  {
   "cell_type": "markdown",
   "id": "040f4833",
   "metadata": {},
   "source": [
    "Excluded cumulative and global share metrics which weren’t critical to the sectoral dashboard view. This reduced column complexity from 79 to under 15 without losing analysis power."
   ]
  },
  {
   "cell_type": "code",
   "execution_count": 69,
   "id": "e4551d02",
   "metadata": {},
   "outputs": [
    {
     "data": {
      "text/plain": [
       "gdp                    34940\n",
       "flaring_co2            34239\n",
       "co2_per_gdp            32663\n",
       "gas_co2                32177\n",
       "coal_co2               28436\n",
       "oil_co2                24973\n",
       "co2_per_capita         24009\n",
       "cement_co2             21328\n",
       "co2                    21054\n",
       "land_use_change_co2    12955\n",
       "total_ghg              12781\n",
       "population              9172\n",
       "country                    0\n",
       "year                       0\n",
       "dtype: int64"
      ]
     },
     "execution_count": 69,
     "metadata": {},
     "output_type": "execute_result"
    }
   ],
   "source": [
    "# Check top 20 columns by missing values\n",
    "df.isnull().sum().sort_values(ascending=False).head(20)"
   ]
  },
  {
   "cell_type": "markdown",
   "id": "b49edc1e",
   "metadata": {},
   "source": [
    "## 4. Drop Irrelevant Columns & Handle Missing Values\n",
    "\n",
    "We’ll focus on:\n",
    "- Overall CO₂ (`co2`)\n",
    "- Per capita and per GDP emissions\n",
    "- Filtering out rows with missing critical data\n",
    "while allowing flexibility for optional columns to boost both data depth and visual clarity. Let's simplify with a Priority Pyramid Approach that focuses on critical columns first while preserving maximum data."
   ]
  },
  {
   "cell_type": "code",
   "execution_count": 70,
   "id": "37f666f1",
   "metadata": {},
   "outputs": [
    {
     "name": "stdout",
     "output_type": "stream",
     "text": [
      "Rows after Tier 1 cleaning: 5928\n"
     ]
    }
   ],
   "source": [
    "# Keep only modern data and essential identifiers\n",
    "df = df[df['year'] >= 2000]\n",
    "df = df.dropna(subset=['country', 'year', 'co2'])\n",
    "print(f\"Rows after Tier 1 cleaning: {len(df)}\")"
   ]
  },
  {
   "cell_type": "code",
   "execution_count": 71,
   "id": "720e95d1",
   "metadata": {},
   "outputs": [
    {
     "name": "stdout",
     "output_type": "stream",
     "text": [
      "Missing co2_per_capita after calc: 384\n",
      "Missing co2_per_gdp after calc: 1778\n"
     ]
    }
   ],
   "source": [
    "# Calculate co2_per_capita where population exists\n",
    "mask = df['population'].notnull()\n",
    "df.loc[mask, 'co2_per_capita'] = df.loc[mask, 'co2'] / df.loc[mask, 'population']\n",
    "\n",
    "# Calculate co2_per_gdp where GDP exists\n",
    "mask = df['gdp'].notnull()\n",
    "df.loc[mask, 'co2_per_gdp'] = df.loc[mask, 'co2'] / df.loc[mask, 'gdp']\n",
    "\n",
    "print(f\"Missing co2_per_capita after calc: {df['co2_per_capita'].isnull().sum()}\")\n",
    "print(f\"Missing co2_per_gdp after calc: {df['co2_per_gdp'].isnull().sum()}\")"
   ]
  },
  {
   "cell_type": "markdown",
   "id": "e6986385",
   "metadata": {},
   "source": [
    "**Alternatives for handling still missing values in our derived metrics**\n",
    "- recalculated missing values\n",
    "- used progressive imputation"
   ]
  },
  {
   "cell_type": "code",
   "execution_count": 72,
   "id": "d6ce695a",
   "metadata": {},
   "outputs": [
    {
     "name": "stdout",
     "output_type": "stream",
     "text": [
      "Current missing values:\n",
      "co2_per_capita       0\n",
      "co2_per_gdp       1778\n",
      "dtype: int64\n"
     ]
    }
   ],
   "source": [
    "\n",
    "# Fill co2_per_capita by median per country\n",
    "df['co2_per_capita'] = df.groupby('country')['co2_per_capita'].transform(\n",
    "    lambda x: x.fillna(x.median())\n",
    ")\n",
    "\n",
    "# Fill any leftovers with global median\n",
    "df['co2_per_capita'] = df['co2_per_capita'].fillna(df['co2_per_capita'].median())\n",
    "\n",
    "print(\"Current missing values:\")\n",
    "print(df[['co2_per_capita','co2_per_gdp']].isnull().sum())"
   ]
  },
  {
   "cell_type": "code",
   "execution_count": 73,
   "id": "fa9bd44a",
   "metadata": {},
   "outputs": [
    {
     "name": "stdout",
     "output_type": "stream",
     "text": [
      "co2_per_capita changes:\n",
      "Nulls before: 0\n",
      "Nulls after: 0\n",
      "\n",
      "co2_per_gdp changes:\n",
      "Nulls before: 1778\n",
      "Nulls after: 0\n"
     ]
    }
   ],
   "source": [
    "# CELL 4: IMPUTATION WITH VALIDATION\n",
    "# ----------------------------------\n",
    "import warnings\n",
    "warnings.filterwarnings('ignore', 'Mean of empty slice')\n",
    "# Input: Cleaned dataframe (post-Tier 1/2)\n",
    "# Output: Dataframe with filled values\n",
    "# Checks: Null reduction report\n",
    "\n",
    "# 1. Capture original state\n",
    "original_co2_per_capita = df['co2_per_capita'].copy()\n",
    "original_co2_per_gdp = df['co2_per_gdp'].copy()\n",
    "\n",
    "# 2. imputation code\n",
    "df['co2_per_capita'] = df.groupby('country')['co2_per_capita'].transform(\n",
    "    lambda x: x.fillna(x.median())\n",
    ").fillna(df['co2_per_capita'].median())\n",
    "\n",
    "df['co2_per_gdp'] = df.groupby('country')['co2_per_gdp'].transform(\n",
    "    lambda x: x.fillna(x.median())\n",
    ").fillna(df['co2_per_gdp'].median())\n",
    "\n",
    "# 3. Retroactive sanity check\n",
    "print(\"co2_per_capita changes:\")\n",
    "print(f\"Nulls before: {original_co2_per_capita.isnull().sum()}\")\n",
    "print(f\"Nulls after: {df['co2_per_capita'].isnull().sum()}\\n\")\n",
    "\n",
    "print(\"co2_per_gdp changes:\")\n",
    "print(f\"Nulls before: {original_co2_per_gdp.isnull().sum()}\")\n",
    "print(f\"Nulls after: {df['co2_per_gdp'].isnull().sum()}\")"
   ]
  },
  {
   "cell_type": "markdown",
   "id": "b4c9fe39",
   "metadata": {},
   "source": [
    "##### Conclusively, Missing values in derived metrics were filled using country medians where available, with global medians as fallback."
   ]
  },
  {
   "cell_type": "markdown",
   "id": "2c7ee60e",
   "metadata": {},
   "source": [
    "### Handling energy columns as a bonus to visualize sector-wise emissions\n",
    "- compare energy types on dashboard.\n",
    "- additionally, handle by a threshold filter."
   ]
  },
  {
   "cell_type": "code",
   "execution_count": 74,
   "id": "b6e04483",
   "metadata": {},
   "outputs": [
    {
     "name": "stdout",
     "output_type": "stream",
     "text": [
      "Final columns kept: ['country', 'year', 'population', 'gdp', 'cement_co2', 'co2', 'co2_per_capita', 'co2_per_gdp', 'coal_co2', 'flaring_co2', 'gas_co2', 'land_use_change_co2', 'oil_co2', 'total_ghg']\n",
      "Missing values remaining:\n",
      " country                   0\n",
      "year                      0\n",
      "population              480\n",
      "gdp                    2146\n",
      "cement_co2              490\n",
      "co2                       0\n",
      "co2_per_capita            0\n",
      "co2_per_gdp               0\n",
      "coal_co2                  0\n",
      "flaring_co2             240\n",
      "gas_co2                   0\n",
      "land_use_change_co2     864\n",
      "oil_co2                   0\n",
      "total_ghg               816\n",
      "dtype: int64\n"
     ]
    }
   ],
   "source": [
    "for col in ['gas_co2', 'coal_co2', 'oil_co2']:\n",
    "    df[col] = df.groupby('country')[col].transform(lambda x: x.fillna(x.median()))\n",
    "    df[col] = df[col].fillna(df[col].median())\n",
    "\n",
    "# Remove columns with >50% missing data\n",
    "missing_threshold = 0.5\n",
    "df = df.loc[:, df.isnull().mean() < missing_threshold]\n",
    "print(f\"Final columns kept: {df.columns.tolist()}\")\n",
    "\n",
    "# Before/After missing values\n",
    "print(\"Missing values remaining:\\n\", df.isnull().sum())"
   ]
  },
  {
   "cell_type": "code",
   "execution_count": 75,
   "id": "3059ec80",
   "metadata": {},
   "outputs": [],
   "source": [
    "#due to vsc/pylance limitation:\n",
    "# Combined Tier 1 Handling\n",
    "if 'population' not in df.columns:\n",
    "    raise KeyError(\"Population column missing!\")\n",
    "\n",
    "# Single transformation with type hint\n",
    "df['population'] = (\n",
    "    df.groupby('country', group_keys=False)['population']\n",
    "    .apply(lambda x: x.fillna(x.median()))\n",
    "    .fillna(df['population'].median())  # type: ignore\n",
    ")\n",
    "\n",
    "# Tier 2/3 (Same as Before)\n",
    "for col in ['cement_co2', 'flaring_co2']:\n",
    "    if col in df.columns:\n",
    "        df[col] = df[col].fillna(df.groupby(col)[col].transform('median'))\n",
    "\n",
    "df = df.dropna(subset=['population', 'cement_co2'])"
   ]
  },
  {
   "cell_type": "code",
   "execution_count": 76,
   "id": "49e8d9a4",
   "metadata": {},
   "outputs": [
    {
     "data": {
      "text/plain": [
       "array([[<Axes: title={'center': 'population'}>,\n",
       "        <Axes: title={'center': 'cement_co2'}>]], dtype=object)"
      ]
     },
     "execution_count": 76,
     "metadata": {},
     "output_type": "execute_result"
    },
    {
     "data": {
      "image/png": "[encoded data removed]",
      "text/plain": [
       "<Figure size 640x480 with 2 Axes>"
      ]
     },
     "metadata": {},
     "output_type": "display_data"
    }
   ],
   "source": [
    "import matplotlib.pyplot as plt\n",
    "df[['population', 'cement_co2']].hist()"
   ]
  },
  {
   "cell_type": "markdown",
   "id": "f4d4163f",
   "metadata": {},
   "source": [
    "##  Final Export\n",
    "\n",
    "The final dataset includes 14 key columns and 5,000+ rows across 2000–2022.\n",
    "\n",
    "- `co2`, `co2_per_capita`, `co2_per_gdp` are fully cleaned\n",
    "- Energy sector emissions (`coal_co2`, `gas_co2`, etc.) are partially imputed\n",
    "- Columns with >50% missingness were dropped\n",
    "\n",
    "We now export this dataset for Tableau."
   ]
  },
  {
   "cell_type": "code",
   "execution_count": 77,
   "id": "e61bf132",
   "metadata": {},
   "outputs": [
    {
     "name": "stdout",
     "output_type": "stream",
     "text": [
      " Final cleaned data saved!\n"
     ]
    }
   ],
   "source": [
    "# Export cleaned dataset\n",
    "df.to_csv(\"data/cleaned_emissions_data.csv\", index=False)\n",
    "print(\" Final cleaned data saved!\")"
   ]
  }
 ],
 "metadata": {
  "kernelspec": {
   "display_name": "Python 3",
   "language": "python",
   "name": "python3"
  },
  "language_info": {
   "codemirror_mode": {
    "name": "ipython",
    "version": 3
   },
   "file_extension": ".py",
   "mimetype": "text/x-python",
   "name": "python",
   "nbconvert_exporter": "python",
   "pygments_lexer": "ipython3",
   "version": "3.11.9"
  }
 },
 "nbformat": 4,
 "nbformat_minor": 5
}
